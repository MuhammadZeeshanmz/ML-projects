{
  "nbformat": 4,
  "nbformat_minor": 0,
  "metadata": {
    "colab": {
      "provenance": []
    },
    "kernelspec": {
      "name": "python3",
      "display_name": "Python 3"
    },
    "language_info": {
      "name": "python"
    }
  },
  "cells": [
    {
      "cell_type": "code",
      "execution_count": 27,
      "metadata": {
        "id": "wZPOcuQhEjf3"
      },
      "outputs": [],
      "source": [
        "import pandas as pd"
      ]
    },
    {
      "cell_type": "code",
      "source": [
        "data = {\n",
        "    'Name': ['Gimbiya', 'Alice', 'Aisha'],\n",
        "    'Age': [27, 30, 35],\n",
        "    'City': ['London', 'New york', 'Dubai']\n",
        "}"
      ],
      "metadata": {
        "id": "6xeVJYUBFCip"
      },
      "execution_count": 28,
      "outputs": []
    },
    {
      "cell_type": "code",
      "source": [
        "df = pd.DataFrame(data)"
      ],
      "metadata": {
        "id": "D5i4aUgXGTI5"
      },
      "execution_count": 29,
      "outputs": []
    },
    {
      "cell_type": "code",
      "source": [
        "print(df)"
      ],
      "metadata": {
        "colab": {
          "base_uri": "https://localhost:8080/"
        },
        "id": "ECv2VBXPGixc",
        "outputId": "0a107128-e64b-4fdd-9124-04b62866252e"
      },
      "execution_count": 21,
      "outputs": [
        {
          "output_type": "stream",
          "name": "stdout",
          "text": [
            "      Name  Age      City\n",
            "0  Gimbiya   27    London\n",
            "1    Alice   30  New york\n",
            "2    Aisha   35     Dubai\n"
          ]
        }
      ]
    },
    {
      "cell_type": "code",
      "source": [
        "print(df['Name'])"
      ],
      "metadata": {
        "colab": {
          "base_uri": "https://localhost:8080/"
        },
        "id": "Km5yAvYPG1DJ",
        "outputId": "e247e3d0-6aa6-434b-cec4-941fb2ba82b5"
      },
      "execution_count": 5,
      "outputs": [
        {
          "output_type": "stream",
          "name": "stdout",
          "text": [
            "0    Gimbiya\n",
            "1      Alice\n",
            "2      Aisha\n",
            "Name: Name, dtype: object\n"
          ]
        }
      ]
    },
    {
      "cell_type": "code",
      "source": [
        "print(df.iloc[2])"
      ],
      "metadata": {
        "colab": {
          "base_uri": "https://localhost:8080/"
        },
        "id": "azbWaQ1HHBgl",
        "outputId": "32229dc0-4a33-431c-d245-c7534243ef00"
      },
      "execution_count": 6,
      "outputs": [
        {
          "output_type": "stream",
          "name": "stdout",
          "text": [
            "Name    Aisha\n",
            "Age        35\n",
            "City    Dubai\n",
            "Name: 2, dtype: object\n"
          ]
        }
      ]
    },
    {
      "cell_type": "code",
      "source": [
        "print(df[1:4])"
      ],
      "metadata": {
        "colab": {
          "base_uri": "https://localhost:8080/"
        },
        "id": "-ooeQUhEHYFZ",
        "outputId": "15e042b9-72e2-416f-9e74-fd4d70fe2065"
      },
      "execution_count": 8,
      "outputs": [
        {
          "output_type": "stream",
          "name": "stdout",
          "text": [
            "    Name  Age      City\n",
            "1  Alice   30  New york\n",
            "2  Aisha   35     Dubai\n"
          ]
        }
      ]
    },
    {
      "cell_type": "code",
      "source": [
        "df['Salary'] = [50000, 54000, 50000]\n",
        "print(df)"
      ],
      "metadata": {
        "colab": {
          "base_uri": "https://localhost:8080/"
        },
        "id": "8__o1sqQH-M7",
        "outputId": "70589f40-e8ff-41e8-bf73-07a59a1ee909"
      },
      "execution_count": 30,
      "outputs": [
        {
          "output_type": "stream",
          "name": "stdout",
          "text": [
            "      Name  Age      City  Salary\n",
            "0  Gimbiya   27    London   50000\n",
            "1    Alice   30  New york   54000\n",
            "2    Aisha   35     Dubai   50000\n"
          ]
        }
      ]
    },
    {
      "cell_type": "code",
      "source": [
        "df.loc[df['Age'] > 40, 'Salary'] = 65000\n",
        "print(df)"
      ],
      "metadata": {
        "colab": {
          "base_uri": "https://localhost:8080/"
        },
        "id": "_EubopagIyBN",
        "outputId": "53f6db0b-30fb-4ec9-a68f-f7d82117645e"
      },
      "execution_count": 31,
      "outputs": [
        {
          "output_type": "stream",
          "name": "stdout",
          "text": [
            "      Name  Age      City  Salary\n",
            "0  Gimbiya   27    London   50000\n",
            "1    Alice   30  New york   54000\n",
            "2    Aisha   35     Dubai   50000\n"
          ]
        }
      ]
    },
    {
      "cell_type": "code",
      "source": [
        "df.drop('Age', axis=1, inplace=True)\n",
        "print(df)"
      ],
      "metadata": {
        "colab": {
          "base_uri": "https://localhost:8080/"
        },
        "id": "vZBNKoaJKKuG",
        "outputId": "66a58ff3-57ff-4f12-ec56-7e74d35a4de5"
      },
      "execution_count": 24,
      "outputs": [
        {
          "output_type": "stream",
          "name": "stdout",
          "text": [
            "      Name      City  Salary\n",
            "0  Gimbiya    London   50000\n",
            "1    Alice  New york   54000\n",
            "2    Aisha     Dubai   50000\n"
          ]
        }
      ]
    },
    {
      "cell_type": "code",
      "source": [
        "# Without modifying the original DataFrame\n",
        "new_df = df.drop('Age', axis=1)\n",
        "print(new_df.head()) # Show the DataFrame without the 'Age' column.\n",
        "print(df.head())     # Original DataFrame remains unchanged."
      ],
      "metadata": {
        "colab": {
          "base_uri": "https://localhost:8080/"
        },
        "id": "DEW9IsxxLIqz",
        "outputId": "96aad3e8-ade2-4e85-83e4-84f11ad972f0"
      },
      "execution_count": 32,
      "outputs": [
        {
          "output_type": "stream",
          "name": "stdout",
          "text": [
            "      Name      City  Salary\n",
            "0  Gimbiya    London   50000\n",
            "1    Alice  New york   54000\n",
            "2    Aisha     Dubai   50000\n",
            "      Name  Age      City  Salary\n",
            "0  Gimbiya   27    London   50000\n",
            "1    Alice   30  New york   54000\n",
            "2    Aisha   35     Dubai   50000\n"
          ]
        }
      ]
    },
    {
      "cell_type": "code",
      "source": [
        "# Calculating the sum of the 'Salary' column across all rows\n",
        "total_salary = df['Salary'].sum(axis=0) # Axis=0 is default here, sums down the rows for 'Salary' column.\n",
        "print(total_salary)"
      ],
      "metadata": {
        "colab": {
          "base_uri": "https://localhost:8080/"
        },
        "id": "itQRKneoNVJ7",
        "outputId": "5f43e520-5a1e-46ca-ca47-02d75b16646d"
      },
      "execution_count": 33,
      "outputs": [
        {
          "output_type": "stream",
          "name": "stdout",
          "text": [
            "154000\n"
          ]
        }
      ]
    }
  ]
}